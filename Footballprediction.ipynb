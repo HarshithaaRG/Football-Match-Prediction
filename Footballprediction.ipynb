{
  "cells": [
    {
      "cell_type": "markdown",
      "metadata": {
        "id": "view-in-github",
        "colab_type": "text"
      },
      "source": [
        "<a href=\"https://colab.research.google.com/github/HarshithaaRG/Football-Match-Prediction/blob/main/Footballprediction.ipynb\" target=\"_parent\"><img src=\"https://colab.research.google.com/assets/colab-badge.svg\" alt=\"Open In Colab\"/></a>"
      ]
    },
    {
      "cell_type": "code",
      "execution_count": null,
      "id": "021d453c",
      "metadata": {
        "_cell_guid": "b1076dfc-b9ad-4769-8c92-a6c4dae69d19",
        "_uuid": "8f2839f25d086af736a60e9eeb907d3b93b6e0e5",
        "execution": {
          "iopub.execute_input": "2024-03-16T12:09:58.997545Z",
          "iopub.status.busy": "2024-03-16T12:09:58.997021Z",
          "iopub.status.idle": "2024-03-16T12:09:59.872993Z",
          "shell.execute_reply": "2024-03-16T12:09:59.871868Z"
        },
        "papermill": {
          "duration": 0.882902,
          "end_time": "2024-03-16T12:09:59.875561",
          "exception": false,
          "start_time": "2024-03-16T12:09:58.992659",
          "status": "completed"
        },
        "tags": [],
        "id": "021d453c",
        "outputId": "a5f7d565-31d4-4857-b09e-6c25ec6927f1"
      },
      "outputs": [
        {
          "name": "stdout",
          "output_type": "stream",
          "text": [
            "/kaggle/input/gdsc-vashisht-ml-hackathon-open-for-all/sample_submission.csv\n",
            "/kaggle/input/gdsc-vashisht-ml-hackathon-open-for-all/X_test.csv\n",
            "/kaggle/input/gdsc-vashisht-ml-hackathon-open-for-all/y_train.csv\n",
            "/kaggle/input/gdsc-vashisht-ml-hackathon-open-for-all/X_train.csv\n"
          ]
        }
      ],
      "source": [
        "# This Python 3 environment comes with many helpful analytics libraries installed\n",
        "# It is defined by the kaggle/python Docker image: https://github.com/kaggle/docker-python\n",
        "# For example, here's several helpful packages to load\n",
        "\n",
        "import numpy as np # linear algebra\n",
        "import pandas as pd # data processing, CSV file I/O (e.g. pd.read_csv)\n",
        "\n",
        "# Input data files are available in the read-only \"../input/\" directory\n",
        "# For example, running this (by clicking run or pressing Shift+Enter) will list all files under the input directory\n",
        "\n",
        "import os\n",
        "for dirname, _, filenames in os.walk('/kaggle/input'):\n",
        "    for filename in filenames:\n",
        "        print(os.path.join(dirname, filename))\n",
        "\n",
        "# You can write up to 20GB to the current directory (/kaggle/working/) that gets preserved as output when you create a version using \"Save & Run All\"\n",
        "# You can also write temporary files to /kaggle/temp/, but they won't be saved outside of the current session"
      ]
    },
    {
      "cell_type": "code",
      "execution_count": null,
      "id": "774fac09",
      "metadata": {
        "execution": {
          "iopub.execute_input": "2024-03-16T12:09:59.881545Z",
          "iopub.status.busy": "2024-03-16T12:09:59.881037Z",
          "iopub.status.idle": "2024-03-16T12:10:04.432941Z",
          "shell.execute_reply": "2024-03-16T12:10:04.431672Z"
        },
        "papermill": {
          "duration": 4.557759,
          "end_time": "2024-03-16T12:10:04.435489",
          "exception": false,
          "start_time": "2024-03-16T12:09:59.877730",
          "status": "completed"
        },
        "tags": [],
        "id": "774fac09",
        "outputId": "57bdb2d6-d591-487d-e701-9db6a7cb8e3e"
      },
      "outputs": [
        {
          "name": "stdout",
          "output_type": "stream",
          "text": [
            "Validation accuracy: 0.5692510801728277\n"
          ]
        }
      ],
      "source": [
        "from sklearn.preprocessing import OneHotEncoder, LabelEncoder\n",
        "from sklearn.model_selection import train_test_split\n",
        "from sklearn.linear_model import LogisticRegression\n",
        "from sklearn.metrics import accuracy_score\n",
        "\n",
        "\n",
        "X_train = pd.read_csv('/kaggle/input/gdsc-vashisht-ml-hackathon-open-for-all/X_train.csv')\n",
        "y_train = pd.read_csv('/kaggle/input/gdsc-vashisht-ml-hackathon-open-for-all/y_train.csv')['result']\n",
        "\n",
        "\n",
        "test_data = pd.read_csv('/kaggle/input/gdsc-vashisht-ml-hackathon-open-for-all/X_test.csv')\n",
        "\n",
        "\n",
        "X_train['date'] = pd.to_datetime(X_train['date'])\n",
        "test_data['date'] = pd.to_datetime(test_data['date'])\n",
        "\n",
        "\n",
        "X_train['date'] = (X_train['date'] - pd.Timestamp('1970-01-01')) // pd.Timedelta('1s')\n",
        "test_data['date'] = (test_data['date'] - pd.Timestamp('1970-01-01')) // pd.Timedelta('1s')\n",
        "\n",
        "\n",
        "X_train['country'] = X_train['country'].astype('category')\n",
        "test_data['country'] = test_data['country'].astype('category')\n",
        "\n",
        "categorical_features = ['home_team', 'away_team', 'city', 'tournament', 'neutral', 'country']\n",
        "numerical_features = ['date']\n",
        "\n",
        "\n",
        "X_train, X_val, y_train, y_val = train_test_split(X_train, y_train, test_size=0.2, random_state=100)\n",
        "\n",
        "\n",
        "label_encoders = {}\n",
        "for feature in categorical_features:\n",
        "    label_encoder = LabelEncoder()\n",
        "    X_train[feature] = X_train[feature].astype(str)\n",
        "    X_val[feature] = X_val[feature].astype(str)\n",
        "    test_data[feature] = test_data[feature].astype(str)\n",
        "    label_encoder.fit(np.concatenate([X_train[feature], X_val[feature], test_data[feature]]))\n",
        "    label_encoders[feature] = label_encoder\n",
        "\n",
        "\n",
        "    unseen_labels = [label for label in test_data[feature].unique() if label not in label_encoder.classes_]\n",
        "    label_encoder.classes_ = np.concatenate([label_encoder.classes_, unseen_labels])\n",
        "\n",
        "\n",
        "    X_train[feature] = label_encoder.transform(X_train[feature])\n",
        "    X_val[feature] = label_encoder.transform(X_val[feature])\n",
        "    test_data[feature] = label_encoder.transform(test_data[feature])\n",
        "\n",
        "\n",
        "cat_encoder = OneHotEncoder(handle_unknown='ignore')\n",
        "X_train_cat = cat_encoder.fit_transform(X_train[categorical_features])\n",
        "X_val_cat = cat_encoder.transform(X_val[categorical_features])\n",
        "X_test_cat = cat_encoder.transform(test_data[categorical_features])\n",
        "\n",
        "\n",
        "logistic_regression = LogisticRegression(multi_class='multinomial', solver='lbfgs', max_iter=1000, random_state=42)\n",
        "\n",
        "\n",
        "logistic_regression.fit(X_train_cat, y_train)\n",
        "\n",
        "\n",
        "y_val_pred = logistic_regression.predict(X_val_cat)\n",
        "val_accuracy = accuracy_score(y_val, y_val_pred)\n",
        "print(f'Validation accuracy: {val_accuracy}')\n",
        "\n",
        "\n",
        "y_test_pred = logistic_regression.predict(X_test_cat)\n",
        "\n",
        "\n",
        "submission = pd.DataFrame({'row_id': range(len(y_test_pred)), 'result': y_test_pred})\n",
        "submission.to_csv('submission.csv', index=False)"
      ]
    }
  ],
  "metadata": {
    "kaggle": {
      "accelerator": "none",
      "dataSources": [
        {
          "databundleVersionId": 7961468,
          "sourceId": 72622,
          "sourceType": "competition"
        }
      ],
      "dockerImageVersionId": 30664,
      "isGpuEnabled": false,
      "isInternetEnabled": true,
      "language": "python",
      "sourceType": "notebook"
    },
    "kernelspec": {
      "display_name": "Python 3",
      "language": "python",
      "name": "python3"
    },
    "language_info": {
      "codemirror_mode": {
        "name": "ipython",
        "version": 3
      },
      "file_extension": ".py",
      "mimetype": "text/x-python",
      "name": "python",
      "nbconvert_exporter": "python",
      "pygments_lexer": "ipython3",
      "version": "3.10.13"
    },
    "papermill": {
      "default_parameters": {},
      "duration": 8.802474,
      "end_time": "2024-03-16T12:10:05.058655",
      "environment_variables": {},
      "exception": null,
      "input_path": "__notebook__.ipynb",
      "output_path": "__notebook__.ipynb",
      "parameters": {},
      "start_time": "2024-03-16T12:09:56.256181",
      "version": "2.5.0"
    },
    "colab": {
      "provenance": [],
      "include_colab_link": true
    }
  },
  "nbformat": 4,
  "nbformat_minor": 5
}